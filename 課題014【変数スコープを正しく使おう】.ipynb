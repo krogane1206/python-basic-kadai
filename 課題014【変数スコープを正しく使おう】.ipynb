{
  "nbformat": 4,
  "nbformat_minor": 0,
  "metadata": {
    "colab": {
      "provenance": [],
      "authorship_tag": "ABX9TyNe+Th2+bqXIFPp7gutOLaw"
    },
    "kernelspec": {
      "name": "python3",
      "display_name": "Python 3"
    },
    "language_info": {
      "name": "python"
    }
  },
  "cells": [
    {
      "cell_type": "code",
      "execution_count": null,
      "metadata": {
        "id": "gO5TkfDz7yWK"
      },
      "outputs": [],
      "source": [
        "#グローバルスコープとローカルスコープの違いを理解する事\n",
        "#スコープを意識したプログラムが書けるようになること\n",
        "\n",
        "#合格基準\n",
        "#1,グローバルスコープとローカルスコープの違いを理解する事\n",
        "#2,スコープを意識したプログラムが書けるようになる事"
      ]
    },
    {
      "cell_type": "code",
      "source": [
        "price1 = 100\n",
        "price2 = 200\n",
        "\n",
        "def total1():\n",
        "  return price1 + price2\n",
        "total1()\n",
        "\n",
        "tax = 1.1\n",
        "\n",
        "print (total1()*tax)"
      ],
      "metadata": {
        "colab": {
          "base_uri": "https://localhost:8080/"
        },
        "id": "_u-AGTO18u22",
        "outputId": "159894d4-938c-40e0-f356-6caf714451c4"
      },
      "execution_count": 2,
      "outputs": [
        {
          "output_type": "stream",
          "name": "stdout",
          "text": [
            "330.0\n"
          ]
        }
      ]
    }
  ]
}