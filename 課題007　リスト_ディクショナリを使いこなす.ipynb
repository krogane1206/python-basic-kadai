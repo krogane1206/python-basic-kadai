{
  "nbformat": 4,
  "nbformat_minor": 0,
  "metadata": {
    "colab": {
      "provenance": [],
      "authorship_tag": "ABX9TyNl4Hz8NTqsF/g20HR7Kt7/"
    },
    "kernelspec": {
      "name": "python3",
      "display_name": "Python 3"
    },
    "language_info": {
      "name": "python"
    }
  },
  "cells": [
    {
      "cell_type": "code",
      "execution_count": null,
      "metadata": {
        "id": "utlVISsaqFUr"
      },
      "outputs": [],
      "source": [
        "#リスト（配列）　および　ディクショナリ（連想配列）　をそれぞれ作成\n",
        "#月曜日から日曜日の天気予報を作成し、そのうち水曜日の天気予報を取り出す"
      ]
    },
    {
      "cell_type": "code",
      "source": [
        "#リスト（配列）　月曜日から日曜日の天気予報を作成\n",
        "array = [\"月曜日は晴れです\",\"火曜日は雨です\",\"水曜日は晴れです\",\"木曜日は晴れです\",\"金曜日は曇りです\",\"土曜日は曇りのち雨です\",\"日曜日は雷雨です\"]\n",
        "#2番目の要素である「水曜日は晴れです」を取り出して表示をする\n",
        "print(array[2])"
      ],
      "metadata": {
        "colab": {
          "base_uri": "https://localhost:8080/"
        },
        "id": "kDPQ8j8Eq9Tv",
        "outputId": "156b7c4b-38aa-4738-ad0d-b5b3d092a241"
      },
      "execution_count": 1,
      "outputs": [
        {
          "output_type": "stream",
          "name": "stdout",
          "text": [
            "水曜日は晴れです\n"
          ]
        }
      ]
    },
    {
      "cell_type": "code",
      "source": [
        "#ディクショナリ（連想配列）　月曜日から日曜日の天気予報を作成\n",
        "dictionary={\"mon\":\"晴れ\",\"tue\":\"雨\",\"wed\":\"晴れ\",\"thu\":\"晴れ\",\"fri\":\"曇り\",\"sat\":\"曇りのち雨\",\"sun\":\"雷雨\"}\n",
        "#「水曜日は晴れです」の要素を取り出して表示する\n",
        "print(\"水曜日は\",dictionary[\"wed\"],\"です。\")"
      ],
      "metadata": {
        "colab": {
          "base_uri": "https://localhost:8080/"
        },
        "id": "9jJLSn32s16u",
        "outputId": "3e0ef59b-f71c-4926-a76b-8d8cc6228364"
      },
      "execution_count": 5,
      "outputs": [
        {
          "output_type": "stream",
          "name": "stdout",
          "text": [
            "水曜日は 晴れ です。\n"
          ]
        }
      ]
    }
  ]
}