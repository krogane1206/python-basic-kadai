{
  "nbformat": 4,
  "nbformat_minor": 0,
  "metadata": {
    "colab": {
      "provenance": [],
      "authorship_tag": "ABX9TyOwqm71emvdZnww5f4KI7xD"
    },
    "kernelspec": {
      "name": "python3",
      "display_name": "Python 3"
    },
    "language_info": {
      "name": "python"
    }
  },
  "cells": [
    {
      "cell_type": "code",
      "execution_count": null,
      "metadata": {
        "id": "23881xLDYjnz"
      },
      "outputs": [],
      "source": [
        "#Pythonで関数を使ったプログラムが書けるようになること\n",
        "\n",
        "#商品を購入して、消費税を加えた計算結果を返す関数を記述してください。\n",
        "#第１引数に商品の金額、消費税（10％）を設定できるようにしてください。\n",
        "\n",
        "#ポイント　①講義内容の仕様通りの関数が定義されている　②定義した関数を呼び出し、使用されている。"
      ]
    },
    {
      "cell_type": "code",
      "source": [
        "#商品を購入して、消費税（10％）を加えた計算結果を返す関数について\n",
        "def add_two_arguments(price,shipping_late):\n",
        "  #与えられた引数①price と　引数②shipping_late　を乗じた計算結果を 変数totalに代入する\n",
        "  total=price * shipping_late\n",
        "  #変数totalの値を出力する\n",
        "  print(f\"{total}円\")\n",
        "\n",
        "add_two_arguments(500,1.01)"
      ],
      "metadata": {
        "colab": {
          "base_uri": "https://localhost:8080/"
        },
        "id": "CEotlkstZkIm",
        "outputId": "a1ee98a1-f3bd-49b8-ce1f-bfab34f8e330"
      },
      "execution_count": 1,
      "outputs": [
        {
          "output_type": "stream",
          "name": "stdout",
          "text": [
            "505.0円\n"
          ]
        }
      ]
    },
    {
      "cell_type": "code",
      "source": [
        "#商品を購入している場合　→　1000円の場合\n",
        "\n",
        "def add_two_arguments(price,is_purchased):\n",
        "\n",
        "  tax_late=0.10\n",
        "\n",
        "  if is_purchased:\n",
        "       total_price=price * (1 + tax_late)\n",
        "       return total_price\n",
        "  else:\n",
        "       return \"商品を購入しておりません\"\n",
        "\n",
        "price=1000\n",
        "purchased = True\n",
        "total_price_with_tax = add_two_arguments(price,purchased)\n",
        "print(f\"合計金額（税込み：{total_price_with_tax}\")"
      ],
      "metadata": {
        "colab": {
          "base_uri": "https://localhost:8080/"
        },
        "id": "6KPkbAyqdfnI",
        "outputId": "68090d6c-aaba-4df3-c9dd-8336bce9d124"
      },
      "execution_count": 6,
      "outputs": [
        {
          "output_type": "stream",
          "name": "stdout",
          "text": [
            "合計金額（税込み：1100.0\n"
          ]
        }
      ]
    },
    {
      "cell_type": "code",
      "source": [
        "#商品を購入していない場合\n",
        "\n",
        "def add_two_arguments(price,is_purchased):\n",
        "\n",
        "  tax_late=0.10\n",
        "\n",
        "  if is_purchased:\n",
        "       total_price=price * (1 + tax_late)\n",
        "       return total_price\n",
        "  else:\n",
        "       return \"商品を購入しておりません\"\n",
        "\n",
        "price=1000\n",
        "purchased = False\n",
        "total_price_with_tax = add_two_arguments(price,purchased)\n",
        "print(f\"合計金額（税込み)：{total_price_with_tax}\")"
      ],
      "metadata": {
        "colab": {
          "base_uri": "https://localhost:8080/"
        },
        "id": "7exhDnqFh50Y",
        "outputId": "c7ac3217-95e1-4a1c-bfb3-6d0a165b00dc"
      },
      "execution_count": 8,
      "outputs": [
        {
          "output_type": "stream",
          "name": "stdout",
          "text": [
            "合計金額（税込み)：商品を購入しておりません\n"
          ]
        }
      ]
    }
  ]
}