{
  "nbformat": 4,
  "nbformat_minor": 0,
  "metadata": {
    "colab": {
      "provenance": [],
      "authorship_tag": "ABX9TyNhAMTEqfIHfr70+EAgohP9",
      "include_colab_link": true
    },
    "kernelspec": {
      "name": "python3",
      "display_name": "Python 3"
    },
    "language_info": {
      "name": "python"
    }
  },
  "cells": [
    {
      "cell_type": "markdown",
      "metadata": {
        "id": "view-in-github",
        "colab_type": "text"
      },
      "source": [
        "<a href=\"https://colab.research.google.com/github/krogane1206/python-basic-kadai/blob/main/%E8%AA%B2%E9%A1%8C008%E3%80%90%E6%9D%A1%E4%BB%B6%E5%88%86%E5%B2%90%E3%81%AEif%E6%96%87%E3%81%A7%E5%87%A6%E7%90%86%E3%82%92%E3%81%8D%E3%82%8A%E3%81%8B%E3%81%88%E3%82%88%E3%81%86%E3%80%91.ipynb\" target=\"_parent\"><img src=\"https://colab.research.google.com/assets/colab-badge.svg\" alt=\"Open In Colab\"/></a>"
      ]
    },
    {
      "cell_type": "code",
      "execution_count": null,
      "metadata": {
        "id": "gUEYTEiMtsDk"
      },
      "outputs": [],
      "source": [
        "#条件判定対象の数値が変数varに代入されている\n",
        "#if文で想定通りの条件に分岐した結果が出力されている"
      ]
    },
    {
      "cell_type": "code",
      "source": [
        "#（前提）ランダム関数を準備\n",
        "import random\n",
        "\n",
        "#変数verにランダムに数値を代入\n",
        "var = random.randint(0,100)\n",
        "\n",
        "#変数varを出力\n",
        "print(var)\n",
        "\n",
        "#変数varが、3の倍数と5の倍数の両方に該当する鵜場合は「FizzBuzz」を出力\n",
        "if var % 3 == 0 and var % 5 == 0 :\n",
        "   print(\"FizzBuzz\")\n",
        "\n",
        "#変数varが、3の倍数の場合は「Fizz」を出力\n",
        "elif var %  3 == 0 :\n",
        "   print(\"Fizz\")\n",
        "#変数varが、5の倍数の場合は「Buzz」を出力\n",
        "elif var %  5 == 0 :\n",
        "   print(\"Buzz\")\n",
        "\n",
        "#上記のどの場合にも該当しない場合は、変数varの値を出力\n",
        "else :\n",
        "   print(var)"
      ],
      "metadata": {
        "colab": {
          "base_uri": "https://localhost:8080/"
        },
        "id": "3JSsNL3CulxJ",
        "outputId": "d894e953-aa5e-4c48-a219-0c55cf594e1e"
      },
      "execution_count": 49,
      "outputs": [
        {
          "output_type": "stream",
          "name": "stdout",
          "text": [
            "90\n",
            "FizzBuzz\n"
          ]
        }
      ]
    }
  ]
}