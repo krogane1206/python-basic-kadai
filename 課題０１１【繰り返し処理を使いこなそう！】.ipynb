{
  "nbformat": 4,
  "nbformat_minor": 0,
  "metadata": {
    "colab": {
      "provenance": [],
      "authorship_tag": "ABX9TyOtnrDMeoKsmTdMxTj8cbju"
    },
    "kernelspec": {
      "name": "python3",
      "display_name": "Python 3"
    },
    "language_info": {
      "name": "python"
    }
  },
  "cells": [
    {
      "cell_type": "code",
      "execution_count": null,
      "metadata": {
        "id": "RFKjnGjdPUeM"
      },
      "outputs": [],
      "source": [
        "#問題\n",
        "#1,Pythonで繰り返し構文（for/while）のプログラムを書けるようになること\n",
        "#2,forとwhileの違いを理解する事\n",
        "\n",
        "#forを用いて繰り返し処理が記述されていること\n",
        "#whileを用いて繰り返し処理が記述されていること"
      ]
    },
    {
      "cell_type": "code",
      "source": [
        "#for文を用いて繰り返い処理を記述\n",
        "#arrayに代入\n",
        "array = [\"水\", \"金\", \"地\", \"火\", \"木\", \"土\", \"天\", \"海\", \"冥\"]\n",
        "#１回目のループで、変数arrayに代入した内容を、itemuにて出力\n",
        "for item in array:\n",
        "    print(item)\n",
        "#２回目のループで、同じ要素をもう１回表示している\n",
        "for item in array:\n",
        "    print(item)"
      ],
      "metadata": {
        "colab": {
          "base_uri": "https://localhost:8080/"
        },
        "id": "ss-rrtnbWdAN",
        "outputId": "2d9f41a9-311e-4216-f2ed-34bd42807b35"
      },
      "execution_count": 16,
      "outputs": [
        {
          "output_type": "stream",
          "name": "stdout",
          "text": [
            "水\n",
            "金\n",
            "地\n",
            "火\n",
            "木\n",
            "土\n",
            "天\n",
            "海\n",
            "冥\n",
            "水\n",
            "金\n",
            "地\n",
            "火\n",
            "木\n",
            "土\n",
            "天\n",
            "海\n",
            "冥\n"
          ]
        }
      ]
    },
    {
      "cell_type": "code",
      "source": [
        "# while文を使った場合\n",
        "array = [\"水\", \"金\", \"地\", \"火\", \"木\", \"土\", \"天\", \"海\", \"冥\"]\n",
        "# iはループカウンター変数で、初期値は０です\n",
        "i = 0\n",
        "# whileループは、iがlen(array) * 2 未満の間は、以下の処理を繰り返す\n",
        "while i < len(array) * 2:\n",
        "  #array[i % len(array)]を表示\n",
        "  #i % len(array)は　i　を　len(array)で割った余りを計算。これによって、arrayの要素がループ内で繰り返し表示される\n",
        "  print(array[i % len(array)])\n",
        "  #iを１増やす\n",
        "  i+=1\n",
        "\n",
        "#ループ終了条件は、下記２つのうちいずれか。\n",
        "#1, i が　len(array)*2に達すること\n",
        "#2, i が　それを超えること"
      ],
      "metadata": {
        "colab": {
          "base_uri": "https://localhost:8080/"
        },
        "id": "EENX_S1PXtib",
        "outputId": "018f6e3f-6b93-4a7e-e6ca-2dd30cd7b08b"
      },
      "execution_count": 25,
      "outputs": [
        {
          "output_type": "stream",
          "name": "stdout",
          "text": [
            "水\n",
            "金\n",
            "地\n",
            "火\n",
            "木\n",
            "土\n",
            "天\n",
            "海\n",
            "冥\n",
            "水\n",
            "金\n",
            "地\n",
            "火\n",
            "木\n",
            "土\n",
            "天\n",
            "海\n",
            "冥\n"
          ]
        }
      ]
    }
  ]
}